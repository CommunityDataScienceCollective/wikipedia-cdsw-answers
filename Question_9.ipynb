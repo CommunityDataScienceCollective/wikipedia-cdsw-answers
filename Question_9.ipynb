{
 "cells": [
  {
   "cell_type": "markdown",
   "metadata": {},
   "source": [
    "Copyright (C) 2016-2020 Ben Lewis, Morten Wang, Nathan TeBlunthuis, Benjamin Mako Hill<br />\n",
    "Licensed under the MIT license, see ./LICENSE"
   ]
  },
  {
   "cell_type": "markdown",
   "metadata": {},
   "source": [
    "### Question 8: How many views did Panama_Papers have… the week it was created?"
   ]
  },
  {
   "cell_type": "code",
   "execution_count": 1,
   "metadata": {},
   "outputs": [],
   "source": [
    "import requests\n",
    "from urllib.parse import quote"
   ]
  },
  {
   "cell_type": "markdown",
   "metadata": {},
   "source": [
    "### Notes:\n",
    "1. Documentation is online at: https://wikimedia.org/api/rest_v1/?doc\n",
    "2. There is no view data for 20160403, bug?"
   ]
  },
  {
   "cell_type": "code",
   "execution_count": 2,
   "metadata": {},
   "outputs": [],
   "source": [
    "ENDPOINT = 'https://wikimedia.org/api/rest_v1/metrics/pageviews/per-article/'\n",
    "\n",
    "wp_code = 'en.wikipedia'\n",
    "access = 'all-access'\n",
    "agents = 'all-agents'\n",
    "page_title = 'Panama Papers'\n",
    "period = 'daily'\n",
    "start_date = '20160404'\n",
    "end_date = '20160411'"
   ]
  },
  {
   "cell_type": "code",
   "execution_count": 3,
   "metadata": {},
   "outputs": [
    {
     "name": "stdout",
     "output_type": "stream",
     "text": [
      "{'items': [{'project': 'en.wikipedia', 'article': 'Panama_Papers', 'granularity': 'daily', 'timestamp': '2016040400', 'access': 'all-access', 'agent': 'all-agents', 'views': 387524}, {'project': 'en.wikipedia', 'article': 'Panama_Papers', 'granularity': 'daily', 'timestamp': '2016040500', 'access': 'all-access', 'agent': 'all-agents', 'views': 387020}, {'project': 'en.wikipedia', 'article': 'Panama_Papers', 'granularity': 'daily', 'timestamp': '2016040600', 'access': 'all-access', 'agent': 'all-agents', 'views': 299349}, {'project': 'en.wikipedia', 'article': 'Panama_Papers', 'granularity': 'daily', 'timestamp': '2016040700', 'access': 'all-access', 'agent': 'all-agents', 'views': 241823}, {'project': 'en.wikipedia', 'article': 'Panama_Papers', 'granularity': 'daily', 'timestamp': '2016040800', 'access': 'all-access', 'agent': 'all-agents', 'views': 200535}, {'project': 'en.wikipedia', 'article': 'Panama_Papers', 'granularity': 'daily', 'timestamp': '2016040900', 'access': 'all-access', 'agent': 'all-agents', 'views': 146780}, {'project': 'en.wikipedia', 'article': 'Panama_Papers', 'granularity': 'daily', 'timestamp': '2016041000', 'access': 'all-access', 'agent': 'all-agents', 'views': 125429}, {'project': 'en.wikipedia', 'article': 'Panama_Papers', 'granularity': 'daily', 'timestamp': '2016041100', 'access': 'all-access', 'agent': 'all-agents', 'views': 110092}]}\n"
     ]
    }
   ],
   "source": [
    "wp_call = requests.get(ENDPOINT + wp_code + '/' + access + '/' + agents + '/' + quote(page_title, safe='') + '/' + period + '/' + start_date + '/' + end_date)\n",
    "response = wp_call.json()\n",
    "print(response)"
   ]
  },
  {
   "cell_type": "code",
   "execution_count": 5,
   "metadata": {},
   "outputs": [],
   "source": [
    "total_views = 0\n",
    "for day in response['items']:\n",
    "    total_views = total_views + day['views']"
   ]
  },
  {
   "cell_type": "code",
   "execution_count": 7,
   "metadata": {},
   "outputs": [
    {
     "name": "stdout",
     "output_type": "stream",
     "text": [
      "Panama Papers had 1898552 page views the first week\n"
     ]
    }
   ],
   "source": [
    "print(page_title + ' had ' + str(total_views) + ' page views the first week')"
   ]
  },
  {
   "cell_type": "code",
   "execution_count": null,
   "metadata": {},
   "outputs": [],
   "source": []
  }
 ],
 "metadata": {
  "kernelspec": {
   "display_name": "Python 3",
   "language": "python",
   "name": "python3"
  },
  "language_info": {
   "codemirror_mode": {
    "name": "ipython",
    "version": 3
   },
   "file_extension": ".py",
   "mimetype": "text/x-python",
   "name": "python",
   "nbconvert_exporter": "python",
   "pygments_lexer": "ipython3",
   "version": "3.7.3"
  }
 },
 "nbformat": 4,
 "nbformat_minor": 2
}
