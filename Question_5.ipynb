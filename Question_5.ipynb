{
 "cells": [
  {
   "cell_type": "markdown",
   "metadata": {},
   "source": [
    "## Question 5: Print the list of users who made revisions in the last day?"
   ]
  },
  {
   "cell_type": "code",
   "execution_count": null,
   "metadata": {},
   "outputs": [],
   "source": [
    "import requests"
   ]
  },
  {
   "cell_type": "code",
   "execution_count": null,
   "metadata": {},
   "outputs": [],
   "source": [
    "ENDPOINT = 'https://en.wikipedia.org/w/api.php'"
   ]
  },
  {
   "cell_type": "code",
   "execution_count": null,
   "metadata": {},
   "outputs": [],
   "source": [
    "\n",
    "parameters = { 'action' : 'query',\n",
    "               'prop' : 'revisions',\n",
    "               'format' : 'json',\n",
    "               'rvdir' : 'older',\n",
    "              'titles' : 'Novel coronavirus (2019-nCoV)',\n",
    "              'rvlimit' : 'max',\n",
    "              'rvstart' : '2020-01-30T00:00:00Z',\n",
    "               'continue' : '' }"
   ]
  },
  {
   "cell_type": "code",
   "execution_count": null,
   "metadata": {},
   "outputs": [],
   "source": [
    "editing_users = []"
   ]
  },
  {
   "cell_type": "code",
   "execution_count": null,
   "metadata": {},
   "outputs": [],
   "source": [
    "done = False\n",
    "iteration = 0\n",
    "while not done:\n",
    "    wp_call = requests.get(ENDPOINT, params=parameters)\n",
    "    response = wp_call.json()\n",
    "\n",
    "    if 'continue' in response:\n",
    "        # we need the value of rvcontinue to page through results\n",
    "        parameters['continue']  = response['continue']['continue']\n",
    "        parameters['rvcontinue'] = response['continue']['rvcontinue']\n",
    "    else:\n",
    "        done = True\n",
    "        \n",
    "    query = response['query']\n",
    "    pages = query['pages']\n",
    "    \n",
    "    # get the page\n",
    "    page_keys = list(pages.keys())\n",
    "    page_key = page_keys[0]\n",
    "    page = pages[page_key]\n",
    "\n",
    "    \n",
    "    # now we need to loop over the revisions\n",
    "    revisions = page['revisions']\n",
    "\n",
    "    for rev in revisions:\n",
    "        user = rev['user']\n",
    "        editing_users.append(user)\n",
    "        \n",
    "    print(f'iteration {iteration}')\n",
    "    iteration = iteration + 1"
   ]
  },
  {
   "cell_type": "code",
   "execution_count": null,
   "metadata": {},
   "outputs": [],
   "source": [
    "print(editing_users)"
   ]
  }
 ],
 "metadata": {
  "kernelspec": {
   "display_name": "Python 3",
   "language": "python",
   "name": "python3"
  },
  "language_info": {
   "codemirror_mode": {
    "name": "ipython",
    "version": 3
   },
   "file_extension": ".py",
   "mimetype": "text/x-python",
   "name": "python",
   "nbconvert_exporter": "python",
   "pygments_lexer": "ipython3",
   "version": "3.7.3"
  }
 },
 "nbformat": 4,
 "nbformat_minor": 2
}
