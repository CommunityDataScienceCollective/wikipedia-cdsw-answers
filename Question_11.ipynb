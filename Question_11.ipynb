{
 "cells": [
  {
   "cell_type": "markdown",
   "metadata": {},
   "source": [
    "Copyright (C) 2016-2020 Ben Lewis, Morten Wang, Nathan TeBlunthuis, Benjamin Mako Hill<br />\n",
    "Licensed under the MIT license, see ./LICENSE"
   ]
  },
  {
   "cell_type": "markdown",
   "metadata": {},
   "source": [
    "## Question 11: How many edits did the \"Panama Papers\" article get the day it was created?"
   ]
  },
  {
   "cell_type": "code",
   "execution_count": 1,
   "metadata": {},
   "outputs": [],
   "source": [
    "import requests"
   ]
  },
  {
   "cell_type": "code",
   "execution_count": 2,
   "metadata": {},
   "outputs": [],
   "source": [
    "ENDPOINT = 'https://en.wikipedia.org/w/api.php'"
   ]
  },
  {
   "cell_type": "code",
   "execution_count": 23,
   "metadata": {},
   "outputs": [],
   "source": [
    "\n",
    "parameters = { 'action' : 'query',\n",
    "               'prop' : 'revisions',\n",
    "               'format' : 'json',\n",
    "               'rvdir' : 'newer',\n",
    "               'titles' : 'Panama Papers',\n",
    "               'rvlimit' : 'max',\n",
    "               'rvstart': '2016-04-03T17:59:05Z',\n",
    "               'rvend' : '2016-04-04T17:59:05Z',\n",
    "               'continue' : '' }"
   ]
  },
  {
   "cell_type": "code",
   "execution_count": 24,
   "metadata": {},
   "outputs": [],
   "source": [
    "num_edits = 0"
   ]
  },
  {
   "cell_type": "code",
   "execution_count": 25,
   "metadata": {},
   "outputs": [
    {
     "name": "stdout",
     "output_type": "stream",
     "text": [
      "iteration: 0, num_edits: 500\n",
      "iteration: 1, num_edits: 607\n"
     ]
    }
   ],
   "source": [
    "done = False\n",
    "iteration = 0\n",
    "while not done:\n",
    "    wp_call = requests.get(ENDPOINT, params=parameters)\n",
    "    response = wp_call.json()\n",
    "\n",
    "    if 'continue' in response:\n",
    "        # we need the value of rvcontinue to page through results\n",
    "        parameters['continue']  = response['continue']['continue']\n",
    "        parameters['rvcontinue'] = response['continue']['rvcontinue']\n",
    "    else:\n",
    "        done = True\n",
    "        \n",
    "    query = response['query']\n",
    "    pages = query['pages']\n",
    "    \n",
    "    # get the page\n",
    "    page_keys = list(pages.keys())\n",
    "    page_key = page_keys[0]\n",
    "    page = pages[page_key]\n",
    "\n",
    "    \n",
    "    # now we need to loop over the revisions\n",
    "    revisions = page['revisions']\n",
    "    num_edits = num_edits + len(revisions)\n",
    "    print(f'iteration: {iteration}, num_edits: {num_edits}')\n",
    "    iteration = iteration + 1"
   ]
  },
  {
   "cell_type": "code",
   "execution_count": 28,
   "metadata": {},
   "outputs": [
    {
     "name": "stdout",
     "output_type": "stream",
     "text": [
      "there were 607 edits to the Panama Papers article in the first day.\n"
     ]
    }
   ],
   "source": [
    "print(f\"there were {num_edits} edits to the Panama Papers article in the first day.\")"
   ]
  },
  {
   "cell_type": "code",
   "execution_count": null,
   "metadata": {},
   "outputs": [],
   "source": []
  }
 ],
 "metadata": {
  "kernelspec": {
   "display_name": "Python 3",
   "language": "python",
   "name": "python3"
  },
  "language_info": {
   "codemirror_mode": {
    "name": "ipython",
    "version": 3
   },
   "file_extension": ".py",
   "mimetype": "text/x-python",
   "name": "python",
   "nbconvert_exporter": "python",
   "pygments_lexer": "ipython3",
   "version": "3.7.3"
  }
 },
 "nbformat": 4,
 "nbformat_minor": 2
}
