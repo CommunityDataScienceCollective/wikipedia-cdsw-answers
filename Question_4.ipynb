{
 "cells": [
  {
   "cell_type": "markdown",
   "metadata": {},
   "source": [
    "## Question 4: Think of two articles that interest you. Which one was edited most recently?"
   ]
  },
  {
   "cell_type": "code",
   "execution_count": null,
   "metadata": {},
   "outputs": [],
   "source": [
    "import requests"
   ]
  },
  {
   "cell_type": "code",
   "execution_count": null,
   "metadata": {},
   "outputs": [],
   "source": [
    "ENDPOINT = 'https://en.wikipedia.org/w/api.php'"
   ]
  },
  {
   "cell_type": "code",
   "execution_count": null,
   "metadata": {},
   "outputs": [],
   "source": [
    "page_title1 = 'Furby'\n",
    "page_title2 = 'Troll doll'\n",
    "parameters = { 'action' : 'query',\n",
    "               'prop' : 'revisions',\n",
    "               'format' : 'json',\n",
    "               'rvlimit' : 1,\n",
    "               'rvdir' : 'older',\n",
    "               'continue' : '' }"
   ]
  },
  {
   "cell_type": "code",
   "execution_count": null,
   "metadata": {},
   "outputs": [],
   "source": [
    "parameters['titles'] = page_title1\n",
    "wp_call1 = requests.get(ENDPOINT, params=parameters)\n",
    "\n",
    "response1 = wp_call1.json()"
   ]
  },
  {
   "cell_type": "code",
   "execution_count": null,
   "metadata": {},
   "outputs": [],
   "source": [
    "query1 = response1['query']\n",
    "pages1 = query1['pages']\n",
    "page_keys1 = list(pages1.keys())\n",
    "page_key1 = page_keys1[0]\n",
    "page1 = pages1[page_key1]\n",
    "page1_edit_time = page1['revisions'][0]['timestamp']"
   ]
  },
  {
   "cell_type": "code",
   "execution_count": null,
   "metadata": {},
   "outputs": [],
   "source": [
    "print(f'Last edit to \"{page_title1}\" was made at {page1_edit_time}')\n"
   ]
  },
  {
   "cell_type": "code",
   "execution_count": null,
   "metadata": {},
   "outputs": [],
   "source": [
    "parameters['titles'] = page_title2\n",
    "wp_call2 = requests.get(ENDPOINT, params=parameters)\n",
    "\n",
    "response2 = wp_call2.json()"
   ]
  },
  {
   "cell_type": "code",
   "execution_count": null,
   "metadata": {},
   "outputs": [],
   "source": [
    "query2 = response2['query']\n",
    "pages2 = query2['pages']\n",
    "page_keys2 = list(pages2.keys())\n",
    "page_key2 = page_keys2[0]\n",
    "page2 = pages2[page_key2]\n",
    "page2_edit_time = page2['revisions'][0]['timestamp']"
   ]
  },
  {
   "cell_type": "code",
   "execution_count": null,
   "metadata": {},
   "outputs": [],
   "source": [
    "print(f'Last edit to \"{page_title2}\" was made at {page2_edit_time}')\n"
   ]
  },
  {
   "cell_type": "code",
   "execution_count": null,
   "metadata": {},
   "outputs": [],
   "source": [
    "if page1_edit_time > page2_edit_time:\n",
    "    print(f'{page_title1} was edited last, at {page1_edit_time}')\n",
    "else:\n",
    "    print(f'{page_title2} was edited first, at {page2_edit_time}')"
   ]
  }
 ],
 "metadata": {
  "kernelspec": {
   "display_name": "Python 3",
   "language": "python",
   "name": "python3"
  },
  "language_info": {
   "codemirror_mode": {
    "name": "ipython",
    "version": 3
   },
   "file_extension": ".py",
   "mimetype": "text/x-python",
   "name": "python",
   "nbconvert_exporter": "python",
   "pygments_lexer": "ipython3",
   "version": "3.7.3"
  }
 },
 "nbformat": 4,
 "nbformat_minor": 2
}
