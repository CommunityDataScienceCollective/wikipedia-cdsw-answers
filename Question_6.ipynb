{
 "cells": [
  {
   "cell_type": "markdown",
   "metadata": {},
   "source": [
    "Copyright (C) 2016-2020 Ben Lewis, Morten Wang, Nathan TeBlunthuis, Benjamin Mako Hill<br />\n",
    "Licensed under the MIT license, see ../LICENSE"
   ]
  },
  {
   "cell_type": "markdown",
   "metadata": {},
   "source": [
    "## Question 5: Print the list of users who made revisions in the last day?"
   ]
  },
  {
   "cell_type": "code",
   "execution_count": 1,
   "metadata": {},
   "outputs": [],
   "source": [
    "import requests"
   ]
  },
  {
   "cell_type": "code",
   "execution_count": 2,
   "metadata": {},
   "outputs": [],
   "source": [
    "ENDPOINT = 'https://en.wikipedia.org/w/api.php'"
   ]
  },
  {
   "cell_type": "code",
   "execution_count": 3,
   "metadata": {},
   "outputs": [],
   "source": [
    "parameters = { 'action' : 'query',\n",
    "               'list':'usercontribs',\n",
    "               'format' : 'json',\n",
    "               'ucstart' : '2020-01-31T00:00:00Z',\n",
    "               'ucend' : '2020-01-30T00:00:00Z',\n",
    "               'ucuser':'Freeknowledgecreator',\n",
    "               'uclimit':'max',\n",
    "               'continue' : '' }"
   ]
  },
  {
   "cell_type": "code",
   "execution_count": 4,
   "metadata": {},
   "outputs": [
    {
     "name": "stdout",
     "output_type": "stream",
     "text": [
      "iteration: 0, edit_count: 27\n"
     ]
    }
   ],
   "source": [
    "done = False\n",
    "iteration = 0\n",
    "edit_count = 0\n",
    "while not done:\n",
    "    wp_call = requests.get(ENDPOINT, params=parameters)\n",
    "    response = wp_call.json()\n",
    "\n",
    "    if 'continue' in response:\n",
    "        # we need the value of rvcontinue to page through results\n",
    "        parameters['continue']  = response['continue']['continue']\n",
    "        parameters['uccontinue'] = response['continue']['uccontinue']\n",
    "    else:\n",
    "        done = True\n",
    "        \n",
    "    query = response['query']\n",
    "    usercontribs = query['usercontribs']\n",
    "    \n",
    "    edit_count = edit_count + len(usercontribs)\n",
    "    \n",
    "    print(f'iteration: {iteration}, edit_count: {edit_count}')\n",
    "    iteration = iteration + 1"
   ]
  },
  {
   "cell_type": "code",
   "execution_count": 5,
   "metadata": {},
   "outputs": [
    {
     "name": "stdout",
     "output_type": "stream",
     "text": [
      "27\n"
     ]
    }
   ],
   "source": [
    "print(edit_count)"
   ]
  },
  {
   "cell_type": "code",
   "execution_count": null,
   "metadata": {},
   "outputs": [],
   "source": []
  }
 ],
 "metadata": {
  "kernelspec": {
   "display_name": "Python 3",
   "language": "python",
   "name": "python3"
  },
  "language_info": {
   "codemirror_mode": {
    "name": "ipython",
    "version": 3
   },
   "file_extension": ".py",
   "mimetype": "text/x-python",
   "name": "python",
   "nbconvert_exporter": "python",
   "pygments_lexer": "ipython3",
   "version": "3.7.3"
  }
 },
 "nbformat": 4,
 "nbformat_minor": 2
}
